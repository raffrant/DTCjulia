{
 "cells": [
  {
   "cell_type": "code",
   "execution_count": 1,
   "metadata": {},
   "outputs": [],
   "source": [
    "using ITensors\n",
    "using Distributions"
   ]
  },
  {
   "cell_type": "code",
   "execution_count": 16,
   "metadata": {},
   "outputs": [],
   "source": [
    "\n",
    "N = 100\n",
    "ttotal = 50000\n",
    "szcent=zeros(ttotal)\n",
    "timesa=[]\n",
    "s = siteinds(\"S=1/2\", N; conserve_qns=false)\n",
    "t=1\n",
    "println(2222)\n",
    "# Initialize psi to be a product state (alternating up and down)\n",
    "for ks in 1:10\n",
    "  state = [\"Up\" for i in 1:100]\n",
    "  global psi\n",
    "  psi = productMPS(s,state)  \n",
    "  cutoff = 1E-9\n",
    "  tau = 1\n",
    "  dj=0.1*2*pi   \n",
    "  sss=rand(Uniform(0, 2*pi), N)\n",
    "  jall=rand(Uniform(2*pi-dj, 2*pi+dj), N-1) \n",
    "\n",
    "  # Make gates (1,2),(2,3),(3,4),...\n",
    "  gates = ITensor[]\n",
    "  szop=[]\n",
    "  for j in 1:N-1 \n",
    "    s1 = s[j]\n",
    "    s2 = s[j + 1]\n",
    "    hj =\n",
    "      op(\"Sz\", s1) * op(\"Sz\", s2) +\n",
    "      1 / 2 * op(\"S+\", s1) * op(\"S-\", s2) +\n",
    "      1 / 2 * op(\"S-\", s1) * op(\"S+\", s2)\n",
    "    Gj = exp(-im * tau / 2 * hj)\n",
    "    push!(gates, Gj)\n",
    "  end  \n",
    "  for t in 0:tau:ttotal\n",
    "    Sz = expect(psi, [\"Sz\"]) \n",
    "   # println(Sz[1])\n",
    "    global psi\n",
    "    push!(szop,Sz[1][5]) \n",
    "    #println(szop)\n",
    "    psi = apply(gates, psi; cutoff=cutoff) \n",
    "    normalize!(psi) \n",
    "    \n",
    "  end  \n",
    "  for i in 1:ttotal\n",
    "   szcent[i]+=szop[i]\n",
    "  end\n",
    "end  \n",
    "println(szcent/10)\n",
    "ENV[\"GKS_ENCODING\"]=\"utf-8\"\n",
    "using Plots\n",
    "using LaTeXStrings\n",
    "plot(1:ttotal, szcent/10,title=L\"$<Sz>_{middle}$\", label=[\"|↓↓↓↓↓↓↑↑↑↑>\"], linewidth=3)\n",
    "plot!(xscale=:log10, minorgrid=true)"
   ]
  }
 ],
 "metadata": {
  "kernelspec": {
   "display_name": "Julia 1.9.3",
   "language": "julia",
   "name": "julia-1.9"
  },
  "language_info": {
   "file_extension": ".jl",
   "mimetype": "application/julia",
   "name": "julia",
   "version": "1.9.3"
  }
 },
 "nbformat": 4,
 "nbformat_minor": 2
}
